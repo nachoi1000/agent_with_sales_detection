{
 "cells": [
  {
   "cell_type": "code",
   "execution_count": 1,
   "metadata": {},
   "outputs": [],
   "source": [
    "import os\n",
    "import sys"
   ]
  },
  {
   "cell_type": "code",
   "execution_count": 2,
   "metadata": {},
   "outputs": [],
   "source": [
    "from vectorstore import ChromaVectorStore\n",
    "from document_handler import process_document\n",
    "from vectorizer import Vectorizer\n",
    "from dotenv import load_dotenv"
   ]
  },
  {
   "cell_type": "code",
   "execution_count": 3,
   "metadata": {},
   "outputs": [],
   "source": [
    "# Load environment variables\n",
    "load_dotenv()\n",
    "\n",
    "# Get the OpenAI API key from the environment variables\n",
    "api_key = os.environ.get(\"OPENAI_API_KEY\")\n",
    "\n",
    "# Get the current working directory\n",
    "current_directory = os.getcwd()\n",
    "\n",
    "# Set the full path for the \"vectorstore\" folder\n",
    "persist_directory = os.path.join(current_directory, \"vectorstore\")"
   ]
  },
  {
   "cell_type": "code",
   "execution_count": 4,
   "metadata": {},
   "outputs": [
    {
     "name": "stdout",
     "output_type": "stream",
     "text": [
      "Document(file_name='C:\\\\Users\\\\nacho\\\\OneDrive\\\\Desktop\\\\chatbot_with_sales_engagement\\\\chatbot_with_sales\\\\data_ingestion\\\\data\\\\QuantumChain Technologies - Customer Success Stories.pdf', file_path='C:\\\\Users\\\\nacho\\\\OneDrive\\\\Desktop\\\\chatbot_with_sales_engagement\\\\chatbot_with_sales\\\\data_ingestion\\\\data\\\\QuantumChain Technologies - Customer Success Stories.pdf', content='Customer Success Stories for QuantumChain Technologies\\n1. Testimonial from FinTech Innovations\\nCusto'...)\n",
      "Document(file_name='C:\\\\Users\\\\nacho\\\\OneDrive\\\\Desktop\\\\chatbot_with_sales_engagement\\\\chatbot_with_sales\\\\data_ingestion\\\\data\\\\QuantumChain Technologies - Financial Projections and Business Overview.pdf', file_path='C:\\\\Users\\\\nacho\\\\OneDrive\\\\Desktop\\\\chatbot_with_sales_engagement\\\\chatbot_with_sales\\\\data_ingestion\\\\data\\\\QuantumChain Technologies - Financial Projections and Business Overview.pdf', content='Financial Projections and Business Overview of QuantumChain\\nTechnologies\\nIntroduction\\nQuantumChain T'...)\n",
      "Document(file_name='C:\\\\Users\\\\nacho\\\\OneDrive\\\\Desktop\\\\chatbot_with_sales_engagement\\\\chatbot_with_sales\\\\data_ingestion\\\\data\\\\QuantumChain Technologies - Human Resources and Talent Overview.pdf', file_path='C:\\\\Users\\\\nacho\\\\OneDrive\\\\Desktop\\\\chatbot_with_sales_engagement\\\\chatbot_with_sales\\\\data_ingestion\\\\data\\\\QuantumChain Technologies - Human Resources and Talent Overview.pdf', content='Human Resources and Talent Overview\\nIntroduction to HR Philosophy\\nAt QuantumChain Technologies, our '...)\n",
      "Document(file_name='C:\\\\Users\\\\nacho\\\\OneDrive\\\\Desktop\\\\chatbot_with_sales_engagement\\\\chatbot_with_sales\\\\data_ingestion\\\\data\\\\QuantumChain Technologies - Mission and Values.pdf', file_path='C:\\\\Users\\\\nacho\\\\OneDrive\\\\Desktop\\\\chatbot_with_sales_engagement\\\\chatbot_with_sales\\\\data_ingestion\\\\data\\\\QuantumChain Technologies - Mission and Values.pdf', content='Mission and Values of QuantumChain Technologies\\nAt QuantumChain Technologies, our mission and values'...)\n",
      "Document(file_name='C:\\\\Users\\\\nacho\\\\OneDrive\\\\Desktop\\\\chatbot_with_sales_engagement\\\\chatbot_with_sales\\\\data_ingestion\\\\data\\\\QuantumChain Technologies - Talent.pdf', file_path='C:\\\\Users\\\\nacho\\\\OneDrive\\\\Desktop\\\\chatbot_with_sales_engagement\\\\chatbot_with_sales\\\\data_ingestion\\\\data\\\\QuantumChain Technologies - Talent.pdf', content='Hiring Process\\nAt QuantumChain Technologies, our hiring process is designed to attract top talent fr'...)\n",
      "Document(file_name='C:\\\\Users\\\\nacho\\\\OneDrive\\\\Desktop\\\\chatbot_with_sales_engagement\\\\chatbot_with_sales\\\\data_ingestion\\\\data\\\\QuantumChain Technologies - Timeline and Achievements.pdf', file_path='C:\\\\Users\\\\nacho\\\\OneDrive\\\\Desktop\\\\chatbot_with_sales_engagement\\\\chatbot_with_sales\\\\data_ingestion\\\\data\\\\QuantumChain Technologies - Timeline and Achievements.pdf', content='QuantumChain Technologies: Corporate Timeline and Achievements\\n2020: Founding Year\\n● January 15, 202'...)\n"
     ]
    }
   ],
   "source": [
    "# Obtener el directorio de trabajo actual\n",
    "current_directory = os.getcwd()\n",
    "# Crear la ruta completa para la carpeta \"vectorstore\"\n",
    "persist_directory = os.path.join(current_directory, \"vectorstore\")\n",
    "\n",
    "# Initialize the Chroma vectorstore with persistence\n",
    "vectorstore = ChromaVectorStore(collection_name=\"test_2\", persist_directory=persist_directory)\n",
    "\n",
    "# Directorio donde están los archivos\n",
    "directorio = r\"C:\\Users\\nacho\\OneDrive\\Desktop\\chatbot_with_sales_engagement\\chatbot_with_sales\\data_ingestion\\data\"\n",
    "\n",
    "# Iterar sobre los archivos del directorio\n",
    "for elemento in os.listdir(directorio):\n",
    "    # Construir la ruta completa del archivo\n",
    "    file_path = os.path.join(directorio, elemento)\n",
    "    \n",
    "    # Procesar el documento\n",
    "    result = process_document(file_path=file_path, api_key=api_key)\n",
    "    \n",
    "    # Mostrar el resultado\n",
    "    print(result)\n",
    "\n",
    "    # Añadir el documento al vectorstore\n",
    "    vectorstore.add_document(result)"
   ]
  },
  {
   "cell_type": "code",
   "execution_count": 5,
   "metadata": {},
   "outputs": [],
   "source": [
    "consulta = vectorstore.query_texts(query_texts=[\"who found the company\"], n_results=5)"
   ]
  },
  {
   "cell_type": "code",
   "execution_count": 6,
   "metadata": {},
   "outputs": [
    {
     "data": {
      "text/plain": [
       "[['vulnerabilities before they can be exploited.  We have experienced a 70% reduction in data breaches since implementation, allowing us to maintain our clients\\' trust.  Their team’s expertise and commitment to cybersecurity have been instrumental in enhancing our overall security posture.\" — Daniel Ng, Chief Information Officer, HealthFirst 10.  Testimonial from SupplySmart Customer: SupplySmart Industry: Logistics Solution Implemented: Blockchain-Based Supply Chain Management \"In the logistics industry, maintaining an efficient supply chain is crucial.  Since adopting QuantumChain’s Blockchain-Based Supply Chain Management solution, we have gained complete visibility into our inventory and shipment processes.  This transparency has reduced delays by 30% and improved our relationship with suppliers.  The accuracy of data has led to better decision-making and, ultimately, cost savings for our business.\" — Sofia Almeida, Operations Manager, SupplySmart 11.  Testimonial from AgriSafe Customer: AgriSafe Industry: Agriculture Solution Implemented: AI-Powered Financial Analytics Platform \"As a growing agricultural company, having reliable financial insights is essential.  QuantumChain\\'s AI-Powered Financial Analytics Platform has transformed our financial forecasting capabilities.  The predictive models have enabled us to make smarter investment decisions, leading to a 20% increase in revenue.  QuantumChain’s support has been fantastic; they guided us throughout the implementation process and continue to provide valuable insights.\" — Lucas Martins, Chief Financial Officer, AgriSafe 12.  Testimonial from Future Energy Solutions Customer: Future Energy Solutions Industry: Renewable Energy Solution Implemented: Smart Contracts Infrastructure \"In the renewable energy sector, efficiency and reliability are key.  QuantumChain\\'s Smart Contracts Infrastructure has automated our contract management processes, enabling us to execute contracts instantly without the need for intermediaries.  This has saved us time and reduced operational costs by 25%.  The team at QuantumChain has been exceptionally responsive, helping us maximize the value from their solution.\" — Rachel Green, CEO, Future Energy Solutions 13.  Testimonial from FitTech Wearables Customer: FitTech Wearables Industry: Health Tech Solution Implemented: AI Chatbots for Customer Support \"Customer support is crucial for our tech products, and QuantumChain\\'s AI Chatbots have significantly enhanced our service delivery.  The chatbots effectively manage customer queries, helping users navigate our wearable technology seamlessly.  Since implementation, we have seen a 40% reduction in support tickets and an improvement in user satisfaction.  Our customers appreciate the instant responses, which has fostered loyalty to our brand.\" — Nina Patel, Head of Customer Support, FitTech Wearables 14.  Testimonial from SmartHome Technologies Customer: SmartHome Technologies Industry: Smart Home Solutions Solution Implemented: IoT Solutions for Smart Homes \"In the competitive smart home market, providing reliable and integrated solutions is essential.  QuantumChain\\'s IoT Solutions have enabled us to create seamless integration with various smart devices.  Our customers can now control their home environments effortlessly.  This has led to a 60% increase in sales and has enhanced our reputation as a leader in smart technology.  QuantumChain\\'s expertise and support have been invaluable in our journey.\" — Eric Johnson, CTO, SmartHome Technologies 15.  Testimonial from GreenWave Recycling Customer: GreenWave Recycling Industry: Environmental Services Solution Implemented: Blockchain-Based Supply Chain Management \"Transparency is vital in the recycling industry.  QuantumChain\\'s Blockchain-Based Supply Chain Management solution has allowed us to provide our clients with verifiable data on material recycling processes.  This transparency has not only improved our operations but has also built trust with our partners and clients.  Our efficiency has increased by 35%, and we have expanded our client base as a result of the enhanced credibility.\" — Tom Richards, COO, GreenWave Recycling',\n",
       "  'Customer Success Stories for QuantumChain Technologies 1.  Testimonial from FinTech Innovations Customer: FinTech Innovations Industry: Financial Services Solution Implemented: AI-Powered Financial Analytics Platform \"Since implementing QuantumChain\\'s AI-Powered Financial Analytics Platform, we have transformed the way we approach data.  The predictive financial models have allowed us to anticipate market shifts and adjust our strategies accordingly.  Fraud detection is now seamless, enabling us to minimize risk and protect our clients’ assets.  Our personalized banking experiences have resulted in a 30% increase in customer satisfaction scores.  The support from QuantumChain has been exceptional, guiding us through every step of the integration process.\" — Samantha Liu, Chief Operations Officer, FinTech Innovations 2.  Testimonial from EcoTrack Solutions Customer: EcoTrack Solutions Industry: Environmental Sustainability Solution Implemented: Blockchain-Based Supply Chain Management \"EcoTrack Solutions prides itself on transparency and accountability in our supply chain processes.  Partnering with QuantumChain Technologies has been a game-changer.  Their Blockchain-Based Supply Chain Management solution allows us to track the origin of materials in real-time, ensuring that our sourcing meets ethical standards.  This level of transparency has enhanced our credibility and attracted new clients who value sustainability.  We’ve seen a 25% reduction in operational costs since implementing their solution.\" — David Martinez, CEO, EcoTrack Solutions 3.  Testimonial from SecureNet Cybersecurity Customer: SecureNet Cybersecurity Industry: Cybersecurity Solution Implemented: Cybersecurity AI Suite \"Cyber threats are constantly evolving, and we needed a robust solution to stay ahead.  QuantumChain\\'s Cybersecurity AI Suite has empowered us with real-time threat detection and automated responses to vulnerabilities.  Since integrating their system, we have reduced incident response times by over 50%, and our clients feel more secure knowing they have top-notch protection.  The team at QuantumChain has been incredibly responsive, providing ongoing training and support.\" — James Patel, Chief Information Security Officer, SecureNet Cybersecurity 4.  Testimonial from LogistiChain Customer: LogistiChain Industry: Logistics and Supply Chain Solution Implemented: Smart Contracts Infrastructure \"In the logistics sector, efficiency is key.  With QuantumChain\\'s Smart Contracts Infrastructure, we have streamlined our contract management process, eliminating lengthy negotiations and paperwork.  Automated execution of contracts has reduced delays significantly.  Our operational efficiency has increased by 40%, and we\\'ve improved relationships with our partners due to faster processing times.  QuantumChain has truly transformed our business operations.\" — Lisa Chen, Vice President of Operations, LogistiChain 5.  Testimonial from HealthConnect Customer: HealthConnect Industry: Healthcare Solution Implemented: AI Chatbots for Customer Support \"HealthConnect has always prioritized excellent patient care.  With QuantumChain\\'s AI Chatbots, we have enhanced our customer support services significantly.  The chatbots handle inquiries around the clock, providing patients with immediate responses to their questions.  This has freed up our human agents to focus on more complex issues, improving overall service quality.  We\\'ve experienced a 35% decrease in response times, and our patient satisfaction scores have soared.\" — Emily Roberts, Director of Customer Experience, HealthConnect 6.  Testimonial from FutureBuild Customer: FutureBuild Industry: Construction Solution Implemented: Blockchain-Based Supply Chain Management \"In construction, delays and cost overruns can be detrimental.  QuantumChain’s Blockchain-Based Supply Chain Management solution has provided us with unprecedented visibility into our supply chain.  We can now track materials from suppliers to job sites in real-time, significantly reducing delays.  Our project completion times have improved by 20%, and we’ve built stronger relationships with our suppliers.  QuantumChain\\'s support has been invaluable in this transition.\" — Michael Johnson, Project Manager, FutureBuild 7.  Testimonial from AgriTech Innovations Customer: AgriTech Innovations Industry: Agriculture Solution Implemented: AI-Powered Financial Analytics Platform \"As an agricultural technology company, understanding market trends is crucial.  QuantumChain’s AI-Powered Financial Analytics Platform has enabled us to analyze data trends effectively, allowing us to make informed decisions.  The insights gained from their predictive analytics have led to a 15% increase in profitability.  We are excited about the future, knowing we have QuantumChain as our partner in innovation.\" — Rebecca Adams, Chief Financial Officer, AgriTech Innovations 8.  Testimonial from RetailGenius Customer: RetailGenius Industry: E-Commerce Solution Implemented: AI Chatbots for Customer Support \"RetailGenius has always sought to enhance the shopping experience for our customers.  QuantumChain\\'s AI Chatbots have revolutionized our customer service operations.  The chatbots provide instant assistance to customers, from product inquiries to order tracking, which has drastically reduced our average response time.  We’ve seen a 50% increase in customer engagement, leading to higher conversion rates.  Our sales team can now focus on strategic initiatives while the chatbots handle routine inquiries.\" — Jessica Tan, Head of Customer Relations, RetailGenius 9.  Testimonial from HealthFirst Customer: HealthFirst Industry: Health Insurance Solution Implemented: Cybersecurity AI Suite \"With the sensitive nature of health data, security is paramount.  QuantumChain\\'s Cybersecurity AI Suite has equipped us with advanced threat detection capabilities, identifying vulnerabilities before they can be exploited.  We have experienced a 70% reduction in data breaches since implementation, allowing us to maintain our clients\\' trust.  Their team’s expertise and commitment to cybersecurity have been instrumental in enhancing our overall security posture.\" — Daniel Ng, Chief Information Officer, HealthFirst 10.  Testimonial from SupplySmart Customer: SupplySmart Industry: Logistics Solution Implemented: Blockchain-Based Supply Chain Management \"In the logistics industry, maintaining an efficient supply chain is crucial.  Since adopting QuantumChain’s Blockchain-Based Supply Chain Management solution, we have gained complete visibility into our inventory and shipment processes.  This transparency has reduced delays by 30% and improved our relationship with suppliers.  The accuracy of data has led to better decision-making and, ultimately, cost savings for our business.\" — Sofia Almeida, Operations Manager, SupplySmart 11.  Testimonial from AgriSafe Customer: AgriSafe Industry: Agriculture Solution Implemented: AI-Powered Financial Analytics Platform \"As a growing agricultural company, having reliable financial insights is essential.  QuantumChain\\'s AI-Powered Financial Analytics Platform has transformed our financial forecasting capabilities.  The predictive models have enabled us to make smarter investment decisions, leading to a 20% increase in revenue.  QuantumChain’s support has been fantastic; they guided us throughout the',\n",
       "  '● November 2025: The AI Chatbots for Customer Support product is launched, designed to enhance customer service across sectors such as e-commerce, fintech, and healthcare.  The chatbots utilize natural language processing to provide intelligent, real-time responses to customer inquiries.  2026: Global Expansion and New Initiatives ● February 2026: QuantumChain opens offices in Europe, specifically in London and Berlin, to cater to the growing demand for its solutions in the European market.  This expansion enables the company to engage directly with European clients and foster partnerships within the region.  ● August 2026: The company launches the \"Quantum Innovations Fund,\" aimed at supporting startups and entrepreneurs developing AI and blockchain solutions.  This initiative fosters innovation and entrepreneurship, aligning with QuantumChain\\'s mission to empower businesses.  ● October 2026: QuantumChain announces a partnership with Pablo Carroza y Davo Xeneize to create awareness about the importance of technology in sports and community development.  This collaboration includes hosting workshops and community events to promote tech education.  2027: Long-Term Vision and Social Impact ● March 2027: The company publishes its \"10-Year Vision Plan,\" outlining ambitious goals for global expansion, technology innovation, and social responsibility initiatives.  The plan includes a commitment to sustainability and ethical business practices.  ● September 2027: QuantumChain launches the GreenTech Initiative, focusing on developing sustainable technologies that reduce the carbon footprint of its operations and products.  This initiative includes partnerships with environmental organizations and commitments to eco-friendly practices.  ● December 2027: QuantumChain establishes its annual QuantumTech Awards, celebrating innovations in technology, sustainability, and social impact.  This event aims to recognize and promote initiatives that align with the company’s core values and mission.  QuantumChain Technologies: Mergers and Acquisitions 2025: Strategic Merger with TechWave Innovations ● June 2025: QuantumChain Technologies announces a strategic merger with TechWave Innovations, a company specializing in cloud computing and data analytics.  This merger aims to enhance QuantumChain’s product offerings and expand its technological capabilities in the fields of AI and blockchain.  ○ Background on TechWave Innovations: ■ Founded in 2018, TechWave Innovations quickly gained recognition for its innovative cloud solutions and robust data analytics tools.  With a strong client base in various industries, including healthcare, finance, and retail, TechWave is known for its commitment to quality and customer satisfaction.  ○ Reasons for the Merger: ■ The merger is driven by a shared vision of leveraging technology to solve complex business challenges.  By combining resources, QuantumChain can integrate TechWave’s cloud infrastructure with its existing AI and blockchain solutions, creating a more comprehensive service offering for clients.  ■ This strategic move allows QuantumChain to expand its market reach, particularly in sectors where TechWave has established a strong presence.  ○ Impact of the Merger: ■ The merger results in the formation of a new division within QuantumChain, focused on Cloud-Based AI Solutions.  This division aims to provide businesses with integrated tools that combine the power of AI with cloud computing for enhanced data processing and decision-making capabilities.  ■ The combined expertise of both companies fosters innovation, resulting in the rapid development of new products and services that meet the evolving needs of clients.  ● August 2025: Following the merger, QuantumChain hosts a joint innovation summit featuring both companies’ leaders and engineers.  The summit focuses on showcasing collaborative projects and gathering insights from clients on future technology needs.  2026: Acquisition of SecureNet Cybersecurity ● November 2026: QuantumChain completes the acquisition of SecureNet Cybersecurity, a leading provider of cybersecurity solutions.  This acquisition is part of QuantumChain’s strategy to strengthen its cybersecurity offerings within the Cybersecurity AI Suite.  ○ Background on SecureNet Cybersecurity: ■ Founded in 2016, SecureNet is known for its advanced threat detection systems and vulnerability assessment tools.  The company has garnered a strong reputation for its effective cybersecurity measures across various sectors, including finance, healthcare, and education.  ○ Rationale Behind the Acquisition: ■ The acquisition allows QuantumChain to integrate SecureNet’s proprietary cybersecurity technologies into its existing product suite, enhancing the capabilities of the Cybersecurity AI Suite.  ■ By bringing SecureNet’s team on board, QuantumChain gains additional expertise in cybersecurity, further solidifying its position in the market as a comprehensive provider of integrated tech solutions.  ○ Post-Acquisition Integration: ■ After the acquisition, QuantumChain invests in training and development for SecureNet employees to ensure a seamless integration of teams and technologies.  This effort fosters collaboration and innovation as both teams work together to enhance existing products and develop new offerings.  2027: Ongoing Growth and Future Prospects ● January 2027: The merger with TechWave Innovations and the acquisition of SecureNet Cybersecurity are recognized as significant milestones in QuantumChain’s growth strategy.  The company reports increased revenue and a broader client base due to the enhanced capabilities and offerings.  ● March 2027: QuantumChain announces plans for further expansions and potential future acquisitions, aiming to stay at the forefront of technological innovation.  The leadership team emphasizes a commitment to exploring partnerships that align with the company’s mission of empowering businesses through advanced technology solutions.',\n",
       "  'the enhanced capabilities and offerings.  ● March 2027: QuantumChain announces plans for further expansions and potential future acquisitions, aiming to stay at the forefront of technological innovation.  The leadership team emphasizes a commitment to exploring partnerships that align with the company’s mission of empowering businesses through advanced technology solutions.',\n",
       "  \"customer commitment, sustainability, collaboration, and integrity, we are dedicated to creating a positive impact on the world through technology.  As we look to the future, we remain steadfast in our vision of empowering businesses and fostering a better tomorrow for all.  AI and Blockchain Manifesto Introduction In an era where technology is reshaping our world at an unprecedented pace, the convergence of Artificial Intelligence (AI) and Blockchain presents a transformative opportunity to redefine industries, enhance security, and empower individuals.  This manifesto serves as a declaration of our commitment to harnessing the synergistic potential of AI and Blockchain, advocating for ethical practices, and fostering a future that prioritizes innovation, transparency, and inclusivity.  Core Principles 1.  Empowerment Through Technology ○ We believe that technology should empower individuals and organizations alike.  By integrating AI and Blockchain, we enable better decision-making, foster innovation, and enhance operational efficiencies.  Our goal is to provide tools that not only advance business interests but also contribute to societal good.  2.  Transparency and Trust ○ Transparency is fundamental to trust.  Blockchain technology provides an immutable record of transactions, ensuring that data integrity is preserved.  By coupling this with AI’s analytical capabilities, we can offer insights that are not only accurate but also verifiable, fostering trust among stakeholders.  3.  Ethical AI Development ○ We advocate for the ethical development and deployment of AI technologies.  This includes mitigating bias, ensuring data privacy, and maintaining accountability in AI systems.  By leveraging Blockchain’s transparency, we can create a framework for responsible AI usage that aligns with societal values.  4.  Decentralization for Inclusivity ○ We envision a decentralized ecosystem where power is distributed among users rather than concentrated in a few entities.  This decentralization fosters inclusivity, allowing individuals from diverse backgrounds to access and benefit from technological advancements.  Blockchain's architecture inherently supports this vision, creating pathways for equitable participation.  5.  Collaboration and Open Innovation ○ We recognize that innovation flourishes in collaborative environments.  By fostering partnerships across industries, academia, and civil society, we can drive open innovation that accelerates the development of AI and Blockchain solutions.  Our manifesto calls for a culture of sharing knowledge, resources, and expertise.  Our Commitments 1.  Advocacy for Responsible Innovation ○ We commit to advocating for policies and practices that promote responsible innovation in AI and Blockchain.  This includes engaging with policymakers, industry leaders, and communities to ensure that technological advancements serve the public interest.  2.  Education and Awareness ○ We pledge to enhance awareness and understanding of AI and Blockchain technologies among the general public.  By providing accessible educational resources and programs, we aim to empower individuals with the knowledge to navigate and leverage these technologies effectively.  3.  Sustainability in Technology ○ We are committed to developing sustainable solutions that minimize environmental impact.  Our aim is to incorporate eco-friendly practices in the design and deployment of AI and Blockchain systems, ensuring that technological progress aligns with the principles of sustainability.  4.  Protection of Human Rights ○ Our commitment extends to protecting human rights in the digital age.  We recognize the potential for technology to both positively and negatively impact individuals and communities.  We advocate for frameworks that uphold rights such as privacy, security, and freedom of expression in the deployment of AI and Blockchain technologies.  5.  Continuous Improvement and Feedback ○ We believe in the importance of continuous improvement.  We will actively seek feedback from stakeholders, users, and communities to refine our approaches and ensure that our solutions remain relevant, effective, and aligned with the needs of society.  Conclusion The convergence of AI and Blockchain holds immense potential to create a more equitable, transparent, and innovative future.  By adhering to this manifesto, we reaffirm our commitment to leveraging these technologies responsibly and ethically.  Together, we can build a world where technology serves humanity, fostering growth, inclusivity, and trust in every interaction.  Join us in this journey toward a better future powered by AI and Blockchain!\"]]"
      ]
     },
     "execution_count": 6,
     "metadata": {},
     "output_type": "execute_result"
    }
   ],
   "source": [
    "consulta.get(\"documents\")"
   ]
  },
  {
   "cell_type": "code",
   "execution_count": 7,
   "metadata": {},
   "outputs": [
    {
     "data": {
      "text/plain": [
       "<chromadb.utils.embedding_functions.openai_embedding_function.OpenAIEmbeddingFunction at 0x1cb95631a50>"
      ]
     },
     "execution_count": 7,
     "metadata": {},
     "output_type": "execute_result"
    }
   ],
   "source": [
    "vectorstore.embedding_function"
   ]
  },
  {
   "cell_type": "code",
   "execution_count": null,
   "metadata": {},
   "outputs": [],
   "source": []
  }
 ],
 "metadata": {
  "kernelspec": {
   "display_name": ".venv",
   "language": "python",
   "name": "python3"
  },
  "language_info": {
   "codemirror_mode": {
    "name": "ipython",
    "version": 3
   },
   "file_extension": ".py",
   "mimetype": "text/x-python",
   "name": "python",
   "nbconvert_exporter": "python",
   "pygments_lexer": "ipython3",
   "version": "3.11.4"
  }
 },
 "nbformat": 4,
 "nbformat_minor": 2
}
