{
 "cells": [
  {
   "cell_type": "code",
   "execution_count": 1,
   "metadata": {},
   "outputs": [
    {
     "name": "stderr",
     "output_type": "stream",
     "text": [
      "/home/garza/Escritorio/chatbot_with_sales/venv/lib64/python3.13/site-packages/tqdm/auto.py:21: TqdmWarning: IProgress not found. Please update jupyter and ipywidgets. See https://ipywidgets.readthedocs.io/en/stable/user_install.html\n",
      "  from .autonotebook import tqdm as notebook_tqdm\n",
      "[nltk_data] Downloading package stopwords to /home/garza/nltk_data...\n",
      "[nltk_data]   Package stopwords is already up-to-date!\n",
      "[nltk_data] Downloading package punkt_tab to /home/garza/nltk_data...\n",
      "[nltk_data]   Package punkt_tab is already up-to-date!\n"
     ]
    }
   ],
   "source": [
    "from vectorstore import ChromaVectorStore"
   ]
  },
  {
   "cell_type": "code",
   "execution_count": 2,
   "metadata": {},
   "outputs": [],
   "source": [
    "# Configura el nombre de la colección que quieres utilizar\n",
    "collection_name = \"test_2\"\n",
    "\n",
    "# Si quieres una ubicación persistente\n",
    "persist_directory = \"vectorstore\"\n",
    "\n",
    "# Crea una instancia de ChromaVectorStore usando la colección existente\n",
    "vectorstore = ChromaVectorStore(collection_name=collection_name, persist_directory=persist_directory)"
   ]
  },
  {
   "cell_type": "code",
   "execution_count": 3,
   "metadata": {},
   "outputs": [],
   "source": [
    "# Aplicar estrategia de búsqueda vectorial\n",
    "vector_results = vectorstore.apply_retrieval_strategy(\"vector_search\", query_texts=[\"what does QuantumChain do?\"], n_results=2)"
   ]
  },
  {
   "cell_type": "code",
   "execution_count": 4,
   "metadata": {},
   "outputs": [
    {
     "data": {
      "text/plain": [
       "[['the enhanced capabilities and offerings.  ● March 2027: QuantumChain announces plans for further expansions and potential future acquisitions, aiming to stay at the forefront of technological innovation.  The leadership team emphasizes a commitment to exploring partnerships that align with the company’s mission of empowering businesses through advanced technology solutions.',\n",
       "  \"QuantumChain Technologies' stock carries certain risks, which potential investors should consider: ● Market Volatility: The tech sector, particularly AI and blockchain, can experience significant fluctuations based on market conditions and investor sentiment.  ● Regulatory Risks: Changes in government regulations related to technology and data privacy may impact operations and market perception.  ● Competition: The rapidly evolving landscape of AI and blockchain technologies means competition is fierce, and maintaining a competitive edge is essential for growth.  6.  Future Stock Market Strategies To enhance stock performance and shareholder value, QuantumChain Technologies has outlined the following strategies: ● Strategic Acquisitions: Exploring opportunities to acquire complementary companies or technologies that can enhance our product offerings and market position.  ● Stock Buyback Program: Implementing a stock buyback program to manage shares outstanding and support stock prices during market volatility.  ● Engagement with Analysts and Investors: Building strong relationships with analysts and investors to promote stock visibility and encourage informed investment decisions.  Conclusion QuantumChain Technologies aims to provide substantial returns for its investors through strategic growth, sound financial management, and a commitment to innovation in the AI and blockchain sectors.  By prioritizing shareholder rights, maintaining transparency, and implementing effective risk management strategies, we seek to establish ourselves as a reliable investment opportunity in the technology landscape.\"]]"
      ]
     },
     "execution_count": 4,
     "metadata": {},
     "output_type": "execute_result"
    }
   ],
   "source": [
    "vector_results.get(\"documents\")"
   ]
  },
  {
   "cell_type": "code",
   "execution_count": 5,
   "metadata": {},
   "outputs": [
    {
     "data": {
      "text/plain": [
       "['the enhanced capabilities and offerings.  ● March 2027: QuantumChain announces plans for further expansions and potential future acquisitions, aiming to stay at the forefront of technological innovation.  The leadership team emphasizes a commitment to exploring partnerships that align with the company’s mission of empowering businesses through advanced technology solutions.',\n",
       " \"QuantumChain Technologies' stock carries certain risks, which potential investors should consider: ● Market Volatility: The tech sector, particularly AI and blockchain, can experience significant fluctuations based on market conditions and investor sentiment.  ● Regulatory Risks: Changes in government regulations related to technology and data privacy may impact operations and market perception.  ● Competition: The rapidly evolving landscape of AI and blockchain technologies means competition is fierce, and maintaining a competitive edge is essential for growth.  6.  Future Stock Market Strategies To enhance stock performance and shareholder value, QuantumChain Technologies has outlined the following strategies: ● Strategic Acquisitions: Exploring opportunities to acquire complementary companies or technologies that can enhance our product offerings and market position.  ● Stock Buyback Program: Implementing a stock buyback program to manage shares outstanding and support stock prices during market volatility.  ● Engagement with Analysts and Investors: Building strong relationships with analysts and investors to promote stock visibility and encourage informed investment decisions.  Conclusion QuantumChain Technologies aims to provide substantial returns for its investors through strategic growth, sound financial management, and a commitment to innovation in the AI and blockchain sectors.  By prioritizing shareholder rights, maintaining transparency, and implementing effective risk management strategies, we seek to establish ourselves as a reliable investment opportunity in the technology landscape.\"]"
      ]
     },
     "execution_count": 5,
     "metadata": {},
     "output_type": "execute_result"
    }
   ],
   "source": [
    "vector_results['documents'][0]"
   ]
  },
  {
   "cell_type": "code",
   "execution_count": 6,
   "metadata": {},
   "outputs": [
    {
     "name": "stderr",
     "output_type": "stream",
     "text": [
      "[nltk_data] Downloading package stopwords to /home/garza/nltk_data...\n",
      "[nltk_data]   Package stopwords is already up-to-date!\n",
      "[nltk_data] Downloading package punkt_tab to /home/garza/nltk_data...\n",
      "[nltk_data]   Package punkt_tab is already up-to-date!\n"
     ]
    },
    {
     "data": {
      "text/plain": [
       "True"
      ]
     },
     "execution_count": 6,
     "metadata": {},
     "output_type": "execute_result"
    }
   ],
   "source": [
    "import nltk\n",
    "nltk.download('stopwords')\n",
    "nltk.download('punkt_tab')\n",
    "\n",
    "#This has to be done in vectorstore.py!!"
   ]
  },
  {
   "cell_type": "code",
   "execution_count": 6,
   "metadata": {},
   "outputs": [
    {
     "ename": "AttributeError",
     "evalue": "'Collection' object has no attribute 'query_texts'",
     "output_type": "error",
     "traceback": [
      "\u001b[31m---------------------------------------------------------------------------\u001b[39m",
      "\u001b[31mAttributeError\u001b[39m                            Traceback (most recent call last)",
      "\u001b[36mCell\u001b[39m\u001b[36m \u001b[39m\u001b[32mIn[6]\u001b[39m\u001b[32m, line 2\u001b[39m\n\u001b[32m      1\u001b[39m \u001b[38;5;66;03m# Aplicar búsqueda híbrida\u001b[39;00m\n\u001b[32m----> \u001b[39m\u001b[32m2\u001b[39m hybrid_results = \u001b[43mvectorstore\u001b[49m\u001b[43m.\u001b[49m\u001b[43mapply_retrieval_strategy\u001b[49m\u001b[43m(\u001b[49m\u001b[33;43m\"\u001b[39;49m\u001b[33;43mhybrid_search\u001b[39;49m\u001b[33;43m\"\u001b[39;49m\u001b[43m,\u001b[49m\u001b[43m \u001b[49m\u001b[43mquery_texts\u001b[49m\u001b[43m=\u001b[49m\u001b[43m[\u001b[49m\u001b[33;43m\"\u001b[39;49m\u001b[33;43mwhat does QuantumChain do?\u001b[39;49m\u001b[33;43m\"\u001b[39;49m\u001b[43m]\u001b[49m\u001b[43m,\u001b[49m\u001b[43m \u001b[49m\u001b[43mn_results\u001b[49m\u001b[43m=\u001b[49m\u001b[32;43m5\u001b[39;49m\u001b[43m)\u001b[49m\n",
      "\u001b[36mFile \u001b[39m\u001b[32m~/Escritorio/chatbot_with_sales/data_ingestion/indexing/vectorstore.py:155\u001b[39m, in \u001b[36mChromaVectorStore.apply_retrieval_strategy\u001b[39m\u001b[34m(self, strategy_name, query_texts, n_results)\u001b[39m\n\u001b[32m    152\u001b[39m     \u001b[38;5;28;01mraise\u001b[39;00m \u001b[38;5;167;01mValueError\u001b[39;00m(\u001b[33mf\u001b[39m\u001b[33m\"\u001b[39m\u001b[33mStrategy \u001b[39m\u001b[38;5;132;01m{\u001b[39;00mstrategy_name\u001b[38;5;132;01m}\u001b[39;00m\u001b[33m is not defined in RetrievalStrategies.\u001b[39m\u001b[33m\"\u001b[39m)\n\u001b[32m    154\u001b[39m strategy = \u001b[38;5;28mgetattr\u001b[39m(\u001b[38;5;28mself\u001b[39m.retrieval_strategies, strategy_name)\n\u001b[32m--> \u001b[39m\u001b[32m155\u001b[39m \u001b[38;5;28;01mreturn\u001b[39;00m \u001b[43mstrategy\u001b[49m\u001b[43m(\u001b[49m\u001b[43mquery_texts\u001b[49m\u001b[43m=\u001b[49m\u001b[43mquery_texts\u001b[49m\u001b[43m,\u001b[49m\u001b[43m \u001b[49m\u001b[43membedding_function\u001b[49m\u001b[43m=\u001b[49m\u001b[38;5;28;43mself\u001b[39;49m\u001b[43m.\u001b[49m\u001b[43membedding_function\u001b[49m\u001b[43m,\u001b[49m\u001b[43m \u001b[49m\u001b[43mcollection\u001b[49m\u001b[43m=\u001b[49m\u001b[38;5;28;43mself\u001b[39;49m\u001b[43m.\u001b[49m\u001b[43mcollection\u001b[49m\u001b[43m,\u001b[49m\u001b[43m \u001b[49m\u001b[43mn_results\u001b[49m\u001b[43m=\u001b[49m\u001b[43mn_results\u001b[49m\u001b[43m)\u001b[49m\n",
      "\u001b[36mFile \u001b[39m\u001b[32m~/Escritorio/chatbot_with_sales/data_ingestion/indexing/retriever.py:113\u001b[39m, in \u001b[36mRetrievalStrategies.hybrid_search\u001b[39m\u001b[34m(query_texts, embedding_function, collection, n_results)\u001b[39m\n\u001b[32m    110\u001b[39m \u001b[38;5;28;01mif\u001b[39;00m n_results % \u001b[32m2\u001b[39m > \u001b[32m0\u001b[39m:\n\u001b[32m    111\u001b[39m     n_results += \u001b[32m1\u001b[39m\n\u001b[32m--> \u001b[39m\u001b[32m113\u001b[39m text_results = \u001b[43mRetrievalStrategies\u001b[49m\u001b[43m.\u001b[49m\u001b[43mtext_search\u001b[49m\u001b[43m(\u001b[49m\u001b[43mquery_texts\u001b[49m\u001b[43m,\u001b[49m\u001b[43m \u001b[49m\u001b[43mcollection\u001b[49m\u001b[43m,\u001b[49m\u001b[43m \u001b[49m\u001b[38;5;28;43mint\u001b[39;49m\u001b[43m(\u001b[49m\u001b[43mn_results\u001b[49m\u001b[43m/\u001b[49m\u001b[32;43m2\u001b[39;49m\u001b[43m)\u001b[49m\u001b[43m)\u001b[49m\n\u001b[32m    114\u001b[39m vector_results = RetrievalStrategies.vector_search(query_texts, embedding_function, collection, \u001b[38;5;28mint\u001b[39m(n_results/\u001b[32m2\u001b[39m))\n\u001b[32m    116\u001b[39m \u001b[38;5;66;03m# Combine the results by merging the lists from both search results\u001b[39;00m\n",
      "\u001b[36mFile \u001b[39m\u001b[32m~/Escritorio/chatbot_with_sales/data_ingestion/indexing/retriever.py:47\u001b[39m, in \u001b[36mRetrievalStrategies.text_search\u001b[39m\u001b[34m(query_texts, collection, n_results)\u001b[39m\n\u001b[32m     44\u001b[39m processed_queries = [preprocess(query) \u001b[38;5;28;01mfor\u001b[39;00m query \u001b[38;5;129;01min\u001b[39;00m query_texts]\n\u001b[32m     46\u001b[39m \u001b[38;5;66;03m# Retrieve all documents from the collection\u001b[39;00m\n\u001b[32m---> \u001b[39m\u001b[32m47\u001b[39m all_elements = \u001b[43mcollection\u001b[49m\u001b[43m.\u001b[49m\u001b[43mquery_texts\u001b[49m(\n\u001b[32m     48\u001b[39m     query_texts=processed_queries,\n\u001b[32m     49\u001b[39m     n_results=\u001b[32m50\u001b[39m,\n\u001b[32m     50\u001b[39m     include=[\u001b[33m\"\u001b[39m\u001b[33mdocuments\u001b[39m\u001b[33m\"\u001b[39m, \u001b[33m\"\u001b[39m\u001b[33mmetadatas\u001b[39m\u001b[33m\"\u001b[39m]\n\u001b[32m     51\u001b[39m )\n\u001b[32m     52\u001b[39m \u001b[38;5;66;03m##all_elements = collection.get(include=[\"documents\", \"metadatas\"])\u001b[39;00m\n\u001b[32m     53\u001b[39m \n\u001b[32m     54\u001b[39m \u001b[38;5;66;03m# Score documents based on the number of matching terms with the processed queries\u001b[39;00m\n\u001b[32m     55\u001b[39m document_scores = defaultdict(\u001b[38;5;28mint\u001b[39m)\n",
      "\u001b[31mAttributeError\u001b[39m: 'Collection' object has no attribute 'query_texts'"
     ]
    }
   ],
   "source": [
    "# Aplicar búsqueda híbrida\n",
    "hybrid_results = vectorstore.apply_retrieval_strategy(\"hybrid_search\", query_texts=[\"what does QuantumChain do?\"], n_results=5)\n"
   ]
  },
  {
   "cell_type": "code",
   "execution_count": 8,
   "metadata": {},
   "outputs": [
    {
     "data": {
      "text/plain": [
       "['the enhanced capabilities and offerings.  ● March 2027: QuantumChain announces plans for further expansions and potential future acquisitions, aiming to stay at the forefront of technological innovation.  The leadership team emphasizes a commitment to exploring partnerships that align with the company’s mission of empowering businesses through advanced technology solutions.',\n",
       " \"QuantumChain Technologies' stock carries certain risks, which potential investors should consider: ● Market Volatility: The tech sector, particularly AI and blockchain, can experience significant fluctuations based on market conditions and investor sentiment.  ● Regulatory Risks: Changes in government regulations related to technology and data privacy may impact operations and market perception.  ● Competition: The rapidly evolving landscape of AI and blockchain technologies means competition is fierce, and maintaining a competitive edge is essential for growth.  6.  Future Stock Market Strategies To enhance stock performance and shareholder value, QuantumChain Technologies has outlined the following strategies: ● Strategic Acquisitions: Exploring opportunities to acquire complementary companies or technologies that can enhance our product offerings and market position.  ● Stock Buyback Program: Implementing a stock buyback program to manage shares outstanding and support stock prices during market volatility.  ● Engagement with Analysts and Investors: Building strong relationships with analysts and investors to promote stock visibility and encourage informed investment decisions.  Conclusion QuantumChain Technologies aims to provide substantial returns for its investors through strategic growth, sound financial management, and a commitment to innovation in the AI and blockchain sectors.  By prioritizing shareholder rights, maintaining transparency, and implementing effective risk management strategies, we seek to establish ourselves as a reliable investment opportunity in the technology landscape.\",\n",
       " 'but also enhances cross-functional collaboration within the organization.  1.  Promotions We believe in recognizing and rewarding hard work and talent.  At QuantumChain, promotions are based on merit, performance, and demonstrated leadership qualities.  Employees are evaluated through a transparent, annual review process that takes into account both their individual contributions and their collaboration within teams.  ○ Performance-Based Promotions: High-performing employees are given the opportunity to advance into roles with greater responsibility.  These promotions are not limited to management tracks but also include technical leadership roles for those who excel in engineering, data science, and AI development.  ○ Fast-Track Programs: For standout employees showing exceptional potential, QuantumChain offers fast-track promotion programs.  These programs shorten the usual promotion cycle, allowing talented individuals to quickly rise through the ranks based on their contributions and leadership abilities.  ○ Leadership Development Pathways: For employees interested in moving into leadership positions, QuantumChain offers dedicated programs to develop management and leadership skills.  Employees who successfully complete these programs are well-positioned to take on team lead or department head roles.  2.  Lateral Moves At QuantumChain, we believe career growth doesn’t always mean climbing the corporate ladder vertically.  Employees are encouraged to explore lateral moves into different departments or functions to diversify their skills and gain a broader understanding of the business.  ○ Cross-Department Transitions: Employees interested in expanding their skill set can apply for roles in different departments, such as transitioning from a technical role in engineering to a strategy role in product development or from marketing to operations.  These transitions are supported by in-depth training and mentoring.  ○ Internal Mobility Program: To facilitate these transitions, QuantumChain has an Internal Mobility Program that allows employees to apply for open positions within the company before they are advertised externally.  This ensures that existing talent is prioritized, and employees can pursue new interests without leaving the company.  3.  Project-Based Opportunities: In addition to traditional promotions and lateral moves, QuantumChain offers employees the chance to take on high-impact project-based roles.  These opportunities allow employees to lead or contribute to critical initiatives outside their usual scope of work.  These experiences not only enhance their professional profiles but also allow them to collaborate with teams across departments, further developing leadership and communication skills.  Continuous Learning Continuous learning is at the core of QuantumChain’s culture.  In an industry as fast-paced as AI and blockchain, it’s critical that employees remain at the cutting edge of technology and innovation.  QuantumChain provides extensive resources and opportunities for employees to continuously enhance their skills and knowledge, ensuring they remain adaptable and well-prepared for future challenges.  1.  Internal Workshops and Training Programs To cultivate in-house expertise and innovation, QuantumChain regularly hosts internal workshops and training programs tailored to the evolving needs of the company and the tech industry.  These sessions are led by internal experts, external consultants, or industry leaders and are designed to strengthen employees’ technical, soft, and leadership skills.  ○ Tech Deep-Dive Sessions: Employees have access to technical deep-dive workshops focused on advanced topics such as machine learning algorithms, blockchain scalability, cybersecurity best practices, and quantum computing.  These workshops are designed to ensure that employees stay at the forefront of technological advancements.  ○ Soft Skills Development: In addition to technical skills, QuantumChain prioritizes the development of soft skills such as communication, collaboration, and emotional intelligence.  Workshops on public speaking, effective negotiation, team leadership, and conflict resolution are regularly offered to employees at all levels.  ○ Leadership Bootcamps: Senior employees and those on the management track are invited to participate in leadership bootcamps, where they receive intensive training in leadership strategies, decision-making, and team management.  These bootcamps help prepare employees for higher-level roles within the company.  2.  Certifications and Sponsored Education Recognizing that formal education plays a key role in professional development, QuantumChain supports employees in obtaining industry-recognized certifications and pursuing further education.  We offer: ○ Certification Programs: Employees are encouraged to pursue certifications in relevant fields, such as AI, blockchain, data science, cybersecurity, and software development.  QuantumChain covers the costs associated with obtaining these certifications and allows time off for exam preparation.  Popular certifications include Google Cloud AI Engineer, Certified Blockchain Developer, and Certified Information Systems Security Professional (CISSP).  ○ Sponsored Higher Education: Employees looking to advance their education further can take advantage of QuantumChain’s sponsored education program.  This program provides partial or full financial support for employees pursuing graduate degrees, MBAs, or specialized programs in technology or business administration.  Employees can apply for tuition assistance to attend prestigious universities and tech institutes worldwide.  3.  Access to Online Learning Platforms QuantumChain also provides free access to premium online learning platforms, including Coursera, Udemy, and edX, where employees can take courses in topics ranging from programming languages like Python and Solidity to leadership and project management.  These platforms allow employees to learn at their own pace and acquire new skills in a self-directed manner.  4.  Hackathons and Innovation Challenges To foster innovation and creative thinking, QuantumChain organizes annual hackathons and innovation challenges where employees can collaborate on developing new products or solutions.  These events not only encourage experimentation with new ideas but also give employees the chance to step outside their daily tasks and build something new.  Winning projects may even be adopted as official QuantumChain initiatives.  5.  Mentorship and Peer Learning Peer-to-peer learning is highly encouraged at QuantumChain.  New hires are paired with mentors, and we also run a peer learning program where employees can share their expertise with colleagues through “Lunch and Learn” sessions, internal tech talks, and mentorship groups.  This informal learning approach fosters collaboration and enhances team knowledge across departments.  By offering a range of career development opportunities and encouraging continuous learning, QuantumChain Technologies ensures that employees are always evolving and progressing.']"
      ]
     },
     "execution_count": 8,
     "metadata": {},
     "output_type": "execute_result"
    }
   ],
   "source": [
    "hybrid_results.get(\"documents\")[3]"
   ]
  },
  {
   "cell_type": "code",
   "execution_count": 7,
   "metadata": {},
   "outputs": [],
   "source": [
    "# Aplicar búsqueda reranking\n",
    "reranking_results = vectorstore.apply_retrieval_strategy(\"reranking\", query_texts=[\"what does QuantumChain do?\"], n_results=5)\n"
   ]
  },
  {
   "cell_type": "code",
   "execution_count": 8,
   "metadata": {},
   "outputs": [
    {
     "data": {
      "text/plain": [
       "[{'id': 'C:\\\\Users\\\\nacho\\\\OneDrive\\\\Desktop\\\\chatbot_with_sales_engagement\\\\chatbot_with_sales\\\\data_ingestion\\\\data\\\\QuantumChain Technologies - Talent.pdf_chunk_2',\n",
       "  'document': \" 2.  Mental Health Days In addition to regular PTO, QuantumChain offers dedicated mental health days, allowing employees to take time off specifically to focus on their emotional well-being without using their vacation time.  These days are intended to reduce burnout and promote a culture that values mental health as much as physical health.  3.  Mindfulness and Meditation Programs To foster a calm and focused work environment, QuantumChain offers mindfulness programs, such as guided meditation sessions and mindfulness workshops.  These initiatives encourage employees to practice stress-relieving techniques that enhance focus, reduce anxiety, and promote mental clarity during work hours.  4.  24/7 Mental Health Support Employees have access to a 24/7 mental health helpline, connecting them with mental health professionals any time they need support.  This service is completely confidential and available to both employees and their family members.  Work-Life Balance Initiatives QuantumChain is dedicated to creating an environment that supports a healthy work-life balance, allowing employees to excel in their careers while also maintaining personal fulfillment.  We understand that flexibility is key to balancing personal and professional responsibilities, so we offer several initiatives to help employees achieve this: 1.  Flexible Working Hours QuantumChain operates on a flexible work schedule, giving employees control over when they start and finish their workday.  This flexibility allows employees to manage personal commitments, childcare, or other obligations without compromising their professional responsibilities.  Employees are encouraged to manage their time in a way that balances productivity with personal well-being.  2.  Remote Work Options As a tech-forward company, QuantumChain has embraced remote work as a long-term option for employees.  We provide the necessary tools and resources for employees to work effectively from home or any other location of their choice.  While some employees choose to work remotely full-time, others take advantage of our hybrid work model, alternating between working from the office and home.  ○ Home Office Stipend: To ensure a comfortable remote working environment, QuantumChain provides a home office stipend for employees to set up ergonomic workstations at home.  This includes covering the cost of high-quality office furniture, monitors, and any additional equipment needed to maintain productivity.  3.  Unlimited Paid Time Off (PTO) QuantumChain believes in providing employees with the time they need to rest, recharge, and take care of their personal lives.  Employees benefit from an unlimited PTO policy, which allows them to take time off as needed without worrying about running out of vacation days.  This policy promotes trust, responsibility, and work-life balance by allowing employees to take time off when they feel it’s necessary.  4.  Family Support Programs ○ Parental Leave: QuantumChain offers generous parental leave policies for both mothers and fathers, including paid maternity and paternity leave.  Parents can take time to bond with their newborns or adopted children, with the flexibility to extend their leave as needed.  ○ Childcare Support: The company offers childcare assistance, including partnerships with daycare centers and financial support for families with young children.  ○ Caregiver Support: In recognition of the diverse needs of its employees, QuantumChain also provides resources and financial assistance to employees who serve as caregivers for elderly or disabled family members.  5.  Sabbatical Program QuantumChain offers long-term employees the opportunity to take sabbaticals after a certain number of years of service.  This program allows employees to take an extended break (usually between 3-6 months) to travel, pursue personal projects, or focus on self-care, returning to work with renewed energy and creativity.  QuantumChain Technologies prioritizes the well-being of its employees through these comprehensive benefits and well-being programs.  We believe that when our employees are healthy, supported, and happy, they are better able to contribute to the company's success.  By providing flexible work arrangements, robust mental health resources, and a balanced approach to professional and personal growth, QuantumChain creates a workplace where employees can truly thrive.  Talent Retention and Career Development At QuantumChain Technologies, we recognize that the key to sustained innovation and success lies in the retention and continuous development of our talented workforce.  We are deeply committed to providing a range of growth opportunities and career development pathways to ensure our employees feel valued, challenged, and empowered.  Our approach to talent retention centers around fostering a supportive and growth-oriented environment, with a focus on career advancement, skill enhancement, and personal development.  Growth Opportunities Through Promotions and Lateral Moves QuantumChain understands that career growth is not a one-size-fits-all process.  We offer multiple avenues for employees to advance within the company, both through traditional promotions and lateral moves that allow employees to explore new roles or departments.  This flexibility not only strengthens individual career paths but also enhances cross-functional collaboration within the organization.  1.  Promotions We believe in recognizing and rewarding hard work and talent.  At QuantumChain, promotions are based on merit, performance, and demonstrated leadership qualities.  Employees are evaluated through a transparent, annual review process that takes into account both their individual contributions and their collaboration within teams.  ○ Performance-Based Promotions: High-performing employees are given the opportunity to advance into roles with greater responsibility.  These promotions are not limited to management tracks but also include technical leadership roles for those who excel in engineering, data science, and AI development.  ○ Fast-Track Programs: For standout employees showing exceptional potential, QuantumChain offers fast-track promotion programs.  These programs shorten the usual promotion cycle, allowing talented individuals to quickly rise through the ranks based on their contributions and leadership abilities.  ○ Leadership Development Pathways: For employees interested in moving into leadership positions, QuantumChain offers dedicated programs to develop management and leadership skills.  Employees who successfully complete these programs are well-positioned to take on team lead or department head roles.  2.  Lateral Moves At QuantumChain, we believe career growth doesn’t always mean climbing the corporate ladder vertically.\",\n",
       "  'metadata': {'file_name': 'C:\\\\Users\\\\nacho\\\\OneDrive\\\\Desktop\\\\chatbot_with_sales_engagement\\\\chatbot_with_sales\\\\data_ingestion\\\\data\\\\QuantumChain Technologies - Talent.pdf',\n",
       "   'file_path': 'C:\\\\Users\\\\nacho\\\\OneDrive\\\\Desktop\\\\chatbot_with_sales_engagement\\\\chatbot_with_sales\\\\data_ingestion\\\\data\\\\QuantumChain Technologies - Talent.pdf'},\n",
       "  'score': 5.899942398071289},\n",
       " {'id': 'C:\\\\Users\\\\nacho\\\\OneDrive\\\\Desktop\\\\chatbot_with_sales_engagement\\\\chatbot_with_sales\\\\data_ingestion\\\\data\\\\QuantumChain Technologies - Talent.pdf_chunk_5',\n",
       "  'document': 'global nature of the markets we serve.  ○ Visa and Relocation Support: For international hires, QuantumChain provides visa sponsorship and comprehensive relocation support to ensure a smooth transition for employees and their families.  This support includes assistance with housing, schools, and language services, making it easier for global talent to thrive in their new environments.  ○ Remote Work Options for Global Teams: In recognition of the increasing importance of flexibility, QuantumChain offers remote work and hybrid work options for employees worldwide.  This allows us to access talent from diverse regions, including those who may not be able to relocate, ensuring geographic diversity within our workforce.  2.  Cultural Awareness and Sensitivity Training ○ To foster a truly inclusive work environment, we provide regular cultural awareness and sensitivity training to all employees.  These workshops help team members understand and appreciate the diverse backgrounds and perspectives of their colleagues, promoting better communication, collaboration, and empathy across our global workforce.  Fair Opportunity for Underrepresented Groups QuantumChain is committed to addressing systemic barriers that have historically limited the participation of underrepresented groups in the tech industry.  We actively seek to create pathways for individuals from diverse ethnicities, socio-economic backgrounds, LGBTQ+ communities, and individuals with disabilities to excel and contribute to our mission.  1.  Inclusive Hiring Practices ○ Affirmative Action in Recruitment: We actively seek to diversify our candidate pool by building partnerships with universities, coding boot camps, and professional organizations that focus on underrepresented groups in tech.  This includes outreach programs that target minority students, veterans, and individuals with disabilities.  ○ Diverse Sourcing Channels: QuantumChain uses diverse sourcing channels, including partnerships with organizations such as Black Girls Code, Lesbians Who Tech, and Code2040, to ensure that we are reaching and attracting candidates from underrepresented groups.  2.  Equal Opportunity and Anti-Discrimination Policies ○ Zero Tolerance for Discrimination: QuantumChain upholds a zero-tolerance policy for discrimination of any kind, whether based on race, gender, sexual orientation, religion, disability, or age.  We provide clear reporting mechanisms and comprehensive anti-discrimination training for all employees to ensure that our workplace remains respectful and inclusive.  ○ Inclusive Workplace Guidelines: All managers and employees are required to adhere to our Inclusive Workplace Guidelines, which outline the principles of fairness, respect, and equal opportunity.  These guidelines ensure that underrepresented groups are given the same opportunities for advancement, mentorship, and development as their peers.  3.  Employee Resource Groups (ERGs) ○ QuantumChain supports Employee Resource Groups (ERGs), which provide communities for underrepresented employees to connect, share experiences, and advocate for inclusive policies.  Our ERGs include: ■ Women in QuantumChain ■ Black in Tech at QuantumChain ■ LGBTQ+ Network ■ Disability Advocates These groups are not only social networks but also drive company-wide initiatives aimed at improving diversity and inclusion policies, supporting professional development, and fostering a sense of belonging.  4.  Scholarships and Internships for Underrepresented Students ○ QuantumChain partners with STEM-focused organizations to offer scholarships and internships to underrepresented students pursuing careers in technology.  Our internship program is designed to provide students with meaningful, hands-on experience in AI, blockchain, and engineering, while also offering mentorship and professional development support.  These internships serve as a pipeline for full-time employment, ensuring that underrepresented talent has a clear path into the tech industry.  Tracking Progress and Accountability At QuantumChain, we understand that creating a diverse and inclusive environment requires continuous effort and accountability.  To ensure progress, we have established systems for tracking our diversity and inclusion goals: 1.  Diversity Metrics and Reporting ○ QuantumChain regularly tracks and reports on diversity metrics, including gender, race, and ethnicity data across departments and leadership levels.  This data is used to evaluate the effectiveness of our diversity initiatives and ensure we are meeting our goals for representation.  2.  Annual Diversity and Inclusion Report ○ We publish an Annual Diversity and Inclusion Report, which highlights our progress, identifies areas for improvement, and outlines new initiatives.  This report ensures transparency and holds leadership accountable for fostering an inclusive and equitable work environment.  Conclusion At QuantumChain Technologies, diversity and inclusion are not just buzzwords—they are core to our mission of driving innovation and building a workforce that reflects the diversity of the world we serve.  Through our commitment to gender parity, global talent recruitment, and fair opportunities for underrepresented groups, we aim to create a company culture where every individual has the opportunity to grow, succeed, and make an impact.',\n",
       "  'metadata': {'file_path': 'C:\\\\Users\\\\nacho\\\\OneDrive\\\\Desktop\\\\chatbot_with_sales_engagement\\\\chatbot_with_sales\\\\data_ingestion\\\\data\\\\QuantumChain Technologies - Talent.pdf',\n",
       "   'file_name': 'C:\\\\Users\\\\nacho\\\\OneDrive\\\\Desktop\\\\chatbot_with_sales_engagement\\\\chatbot_with_sales\\\\data_ingestion\\\\data\\\\QuantumChain Technologies - Talent.pdf'},\n",
       "  'score': 5.474678039550781},\n",
       " {'id': 'C:\\\\Users\\\\nacho\\\\OneDrive\\\\Desktop\\\\chatbot_with_sales_engagement\\\\chatbot_with_sales\\\\data_ingestion\\\\data\\\\QuantumChain Technologies - Timeline and Achievements.pdf_chunk_2',\n",
       "  'document': 'the enhanced capabilities and offerings.  ● March 2027: QuantumChain announces plans for further expansions and potential future acquisitions, aiming to stay at the forefront of technological innovation.  The leadership team emphasizes a commitment to exploring partnerships that align with the company’s mission of empowering businesses through advanced technology solutions.',\n",
       "  'metadata': {'file_path': 'C:\\\\Users\\\\nacho\\\\OneDrive\\\\Desktop\\\\chatbot_with_sales_engagement\\\\chatbot_with_sales\\\\data_ingestion\\\\data\\\\QuantumChain Technologies - Timeline and Achievements.pdf',\n",
       "   'file_name': 'C:\\\\Users\\\\nacho\\\\OneDrive\\\\Desktop\\\\chatbot_with_sales_engagement\\\\chatbot_with_sales\\\\data_ingestion\\\\data\\\\QuantumChain Technologies - Timeline and Achievements.pdf'},\n",
       "  'score': 4.5997395515441895},\n",
       " {'id': 'C:\\\\Users\\\\nacho\\\\OneDrive\\\\Desktop\\\\chatbot_with_sales_engagement\\\\chatbot_with_sales\\\\data_ingestion\\\\data\\\\QuantumChain Technologies - Talent.pdf_chunk_3',\n",
       "  'document': 'but also enhances cross-functional collaboration within the organization.  1.  Promotions We believe in recognizing and rewarding hard work and talent.  At QuantumChain, promotions are based on merit, performance, and demonstrated leadership qualities.  Employees are evaluated through a transparent, annual review process that takes into account both their individual contributions and their collaboration within teams.  ○ Performance-Based Promotions: High-performing employees are given the opportunity to advance into roles with greater responsibility.  These promotions are not limited to management tracks but also include technical leadership roles for those who excel in engineering, data science, and AI development.  ○ Fast-Track Programs: For standout employees showing exceptional potential, QuantumChain offers fast-track promotion programs.  These programs shorten the usual promotion cycle, allowing talented individuals to quickly rise through the ranks based on their contributions and leadership abilities.  ○ Leadership Development Pathways: For employees interested in moving into leadership positions, QuantumChain offers dedicated programs to develop management and leadership skills.  Employees who successfully complete these programs are well-positioned to take on team lead or department head roles.  2.  Lateral Moves At QuantumChain, we believe career growth doesn’t always mean climbing the corporate ladder vertically.  Employees are encouraged to explore lateral moves into different departments or functions to diversify their skills and gain a broader understanding of the business.  ○ Cross-Department Transitions: Employees interested in expanding their skill set can apply for roles in different departments, such as transitioning from a technical role in engineering to a strategy role in product development or from marketing to operations.  These transitions are supported by in-depth training and mentoring.  ○ Internal Mobility Program: To facilitate these transitions, QuantumChain has an Internal Mobility Program that allows employees to apply for open positions within the company before they are advertised externally.  This ensures that existing talent is prioritized, and employees can pursue new interests without leaving the company.  3.  Project-Based Opportunities: In addition to traditional promotions and lateral moves, QuantumChain offers employees the chance to take on high-impact project-based roles.  These opportunities allow employees to lead or contribute to critical initiatives outside their usual scope of work.  These experiences not only enhance their professional profiles but also allow them to collaborate with teams across departments, further developing leadership and communication skills.  Continuous Learning Continuous learning is at the core of QuantumChain’s culture.  In an industry as fast-paced as AI and blockchain, it’s critical that employees remain at the cutting edge of technology and innovation.  QuantumChain provides extensive resources and opportunities for employees to continuously enhance their skills and knowledge, ensuring they remain adaptable and well-prepared for future challenges.  1.  Internal Workshops and Training Programs To cultivate in-house expertise and innovation, QuantumChain regularly hosts internal workshops and training programs tailored to the evolving needs of the company and the tech industry.  These sessions are led by internal experts, external consultants, or industry leaders and are designed to strengthen employees’ technical, soft, and leadership skills.  ○ Tech Deep-Dive Sessions: Employees have access to technical deep-dive workshops focused on advanced topics such as machine learning algorithms, blockchain scalability, cybersecurity best practices, and quantum computing.  These workshops are designed to ensure that employees stay at the forefront of technological advancements.  ○ Soft Skills Development: In addition to technical skills, QuantumChain prioritizes the development of soft skills such as communication, collaboration, and emotional intelligence.  Workshops on public speaking, effective negotiation, team leadership, and conflict resolution are regularly offered to employees at all levels.  ○ Leadership Bootcamps: Senior employees and those on the management track are invited to participate in leadership bootcamps, where they receive intensive training in leadership strategies, decision-making, and team management.  These bootcamps help prepare employees for higher-level roles within the company.  2.  Certifications and Sponsored Education Recognizing that formal education plays a key role in professional development, QuantumChain supports employees in obtaining industry-recognized certifications and pursuing further education.  We offer: ○ Certification Programs: Employees are encouraged to pursue certifications in relevant fields, such as AI, blockchain, data science, cybersecurity, and software development.  QuantumChain covers the costs associated with obtaining these certifications and allows time off for exam preparation.  Popular certifications include Google Cloud AI Engineer, Certified Blockchain Developer, and Certified Information Systems Security Professional (CISSP).  ○ Sponsored Higher Education: Employees looking to advance their education further can take advantage of QuantumChain’s sponsored education program.  This program provides partial or full financial support for employees pursuing graduate degrees, MBAs, or specialized programs in technology or business administration.  Employees can apply for tuition assistance to attend prestigious universities and tech institutes worldwide.  3.  Access to Online Learning Platforms QuantumChain also provides free access to premium online learning platforms, including Coursera, Udemy, and edX, where employees can take courses in topics ranging from programming languages like Python and Solidity to leadership and project management.  These platforms allow employees to learn at their own pace and acquire new skills in a self-directed manner.  4.  Hackathons and Innovation Challenges To foster innovation and creative thinking, QuantumChain organizes annual hackathons and innovation challenges where employees can collaborate on developing new products or solutions.  These events not only encourage experimentation with new ideas but also give employees the chance to step outside their daily tasks and build something new.  Winning projects may even be adopted as official QuantumChain initiatives.  5.  Mentorship and Peer Learning Peer-to-peer learning is highly encouraged at QuantumChain.  New hires are paired with mentors, and we also run a peer learning program where employees can share their expertise with colleagues through “Lunch and Learn” sessions, internal tech talks, and mentorship groups.  This informal learning approach fosters collaboration and enhances team knowledge across departments.  By offering a range of career development opportunities and encouraging continuous learning, QuantumChain Technologies ensures that employees are always evolving and progressing.',\n",
       "  'metadata': {'file_path': 'C:\\\\Users\\\\nacho\\\\OneDrive\\\\Desktop\\\\chatbot_with_sales_engagement\\\\chatbot_with_sales\\\\data_ingestion\\\\data\\\\QuantumChain Technologies - Talent.pdf',\n",
       "   'file_name': 'C:\\\\Users\\\\nacho\\\\OneDrive\\\\Desktop\\\\chatbot_with_sales_engagement\\\\chatbot_with_sales\\\\data_ingestion\\\\data\\\\QuantumChain Technologies - Talent.pdf'},\n",
       "  'score': 4.490686416625977},\n",
       " {'id': 'C:\\\\Users\\\\nacho\\\\OneDrive\\\\Desktop\\\\chatbot_with_sales_engagement\\\\chatbot_with_sales\\\\data_ingestion\\\\data\\\\QuantumChain Technologies - Financial Projections and Business Overview.pdf_chunk_2',\n",
       "  'document': \"QuantumChain Technologies' stock carries certain risks, which potential investors should consider: ● Market Volatility: The tech sector, particularly AI and blockchain, can experience significant fluctuations based on market conditions and investor sentiment.  ● Regulatory Risks: Changes in government regulations related to technology and data privacy may impact operations and market perception.  ● Competition: The rapidly evolving landscape of AI and blockchain technologies means competition is fierce, and maintaining a competitive edge is essential for growth.  6.  Future Stock Market Strategies To enhance stock performance and shareholder value, QuantumChain Technologies has outlined the following strategies: ● Strategic Acquisitions: Exploring opportunities to acquire complementary companies or technologies that can enhance our product offerings and market position.  ● Stock Buyback Program: Implementing a stock buyback program to manage shares outstanding and support stock prices during market volatility.  ● Engagement with Analysts and Investors: Building strong relationships with analysts and investors to promote stock visibility and encourage informed investment decisions.  Conclusion QuantumChain Technologies aims to provide substantial returns for its investors through strategic growth, sound financial management, and a commitment to innovation in the AI and blockchain sectors.  By prioritizing shareholder rights, maintaining transparency, and implementing effective risk management strategies, we seek to establish ourselves as a reliable investment opportunity in the technology landscape.\",\n",
       "  'metadata': {'file_path': 'C:\\\\Users\\\\nacho\\\\OneDrive\\\\Desktop\\\\chatbot_with_sales_engagement\\\\chatbot_with_sales\\\\data_ingestion\\\\data\\\\QuantumChain Technologies - Financial Projections and Business Overview.pdf',\n",
       "   'file_name': 'C:\\\\Users\\\\nacho\\\\OneDrive\\\\Desktop\\\\chatbot_with_sales_engagement\\\\chatbot_with_sales\\\\data_ingestion\\\\data\\\\QuantumChain Technologies - Financial Projections and Business Overview.pdf'},\n",
       "  'score': 4.134620666503906}]"
      ]
     },
     "execution_count": 8,
     "metadata": {},
     "output_type": "execute_result"
    }
   ],
   "source": [
    "reranking_results"
   ]
  },
  {
   "cell_type": "code",
   "execution_count": 9,
   "metadata": {},
   "outputs": [
    {
     "ename": "NameError",
     "evalue": "name 'hybrid_results' is not defined",
     "output_type": "error",
     "traceback": [
      "\u001b[31m---------------------------------------------------------------------------\u001b[39m",
      "\u001b[31mNameError\u001b[39m                                 Traceback (most recent call last)",
      "\u001b[36mCell\u001b[39m\u001b[36m \u001b[39m\u001b[32mIn[9]\u001b[39m\u001b[32m, line 1\u001b[39m\n\u001b[32m----> \u001b[39m\u001b[32m1\u001b[39m \u001b[43mhybrid_results\u001b[49m\n",
      "\u001b[31mNameError\u001b[39m: name 'hybrid_results' is not defined"
     ]
    }
   ],
   "source": [
    "hybrid_results"
   ]
  },
  {
   "cell_type": "code",
   "execution_count": 3,
   "metadata": {},
   "outputs": [
    {
     "data": {
      "text/plain": [
       "<chromadb.utils.embedding_functions.openai_embedding_function.OpenAIEmbeddingFunction at 0x7f58c0aa67b0>"
      ]
     },
     "execution_count": 3,
     "metadata": {},
     "output_type": "execute_result"
    }
   ],
   "source": [
    "vectorstore.embedding_function"
   ]
  },
  {
   "cell_type": "code",
   "execution_count": null,
   "metadata": {},
   "outputs": [],
   "source": []
  }
 ],
 "metadata": {
  "kernelspec": {
   "display_name": "venv",
   "language": "python",
   "name": "python3"
  },
  "language_info": {
   "codemirror_mode": {
    "name": "ipython",
    "version": 3
   },
   "file_extension": ".py",
   "mimetype": "text/x-python",
   "name": "python",
   "nbconvert_exporter": "python",
   "pygments_lexer": "ipython3",
   "version": "3.13.3"
  }
 },
 "nbformat": 4,
 "nbformat_minor": 2
}
