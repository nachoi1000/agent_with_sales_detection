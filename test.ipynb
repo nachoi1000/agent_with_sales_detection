{
 "cells": [
  {
   "cell_type": "code",
   "execution_count": 8,
   "metadata": {},
   "outputs": [],
   "source": [
    "import os\n",
    "from openai import OpenAI\n",
    "from utils.llm_manager import Assistant, LLMClient\n",
    "from utils.file_manager import FileManager\n",
    "from utils.user_data import UserInformation"
   ]
  },
  {
   "cell_type": "code",
   "execution_count": 9,
   "metadata": {},
   "outputs": [],
   "source": [
    "from dotenv import load_dotenv\n",
    "\n",
    "load_dotenv()\n",
    "\n",
    "api_key = os.environ.get(\"THE_OPENAI_API_KEY\")"
   ]
  },
  {
   "cell_type": "code",
   "execution_count": 10,
   "metadata": {},
   "outputs": [
    {
     "data": {
      "text/plain": [
       "'sk-proj-GlMjofuwyrlzOMaxBhODT3BlbkFJwmMN0vPm4cacAveN9tFq'"
      ]
     },
     "execution_count": 10,
     "metadata": {},
     "output_type": "execute_result"
    }
   ],
   "source": [
    "api_key"
   ]
  },
  {
   "cell_type": "code",
   "execution_count": 11,
   "metadata": {},
   "outputs": [],
   "source": [
    "client = OpenAI(api_key=api_key)\n",
    "llm_client = Assistant(client=client, base_prompt=\"You are an assistant.\")"
   ]
  },
  {
   "cell_type": "code",
   "execution_count": 12,
   "metadata": {},
   "outputs": [
    {
     "data": {
      "text/plain": [
       "'Hola'"
      ]
     },
     "execution_count": 12,
     "metadata": {},
     "output_type": "execute_result"
    }
   ],
   "source": [
    "llm_client.chat_completion_response(prompt=\"Just say hello in spanish\")"
   ]
  },
  {
   "cell_type": "code",
   "execution_count": 13,
   "metadata": {},
   "outputs": [
    {
     "data": {
      "text/plain": [
       "UserInformation(name='Martin ka', email=None)"
      ]
     },
     "execution_count": 13,
     "metadata": {},
     "output_type": "execute_result"
    }
   ],
   "source": [
    "llm_client.chat_completion_structured_response(prompt=\"Yes pleased. I'm Martin ka. Thanks a lot for your help.\",output_format=UserInformation)"
   ]
  },
  {
   "cell_type": "code",
   "execution_count": null,
   "metadata": {},
   "outputs": [],
   "source": []
  },
  {
   "cell_type": "code",
   "execution_count": 5,
   "metadata": {},
   "outputs": [
    {
     "name": "stdout",
     "output_type": "stream",
     "text": [
      "Given the following conversation and a follow-up question, \n",
      "- summarize the content of the conversation, by keeping **ONLY CONTENT RELEVANT TO THE QUESTION** in order to be understood\n",
      "- For questions in one of the following languages: English, French, German, Italian, Portuguese, or Spanish, you must write the summary in the same language of the question. For instance, a question in Spanish requires a summary in Spanish.\n",
      "- export the follow-up question along with the summary according to the following structure: \n",
      "\n",
      "<relevant_chat_history_synthesis>\n",
      "summary of relevant chat history\n",
      "</relevant_chat_history_synthesis>\n",
      "\n",
      "<follow_up_input>\n",
      "- follow-up input\n",
      "</follow_up_input>\n",
      "\n",
      "For the current input:\n",
      "Chat History:\n",
      "History\n",
      "Follow-Up Input: que tal\n",
      "Output:\n"
     ]
    }
   ],
   "source": [
    "# Abre el archivo .md en modo lectura\n",
    "with open(r'prompts/conversation_memory.md', 'r', encoding='utf-8') as archivo:\n",
    "    contenido_md = archivo.read()\n",
    "\n",
    "# Ahora la variable contenido_md tiene el contenido del archivo .md\n",
    "print(contenido_md.format(var_chat_history=\"History\",question=\"que tal\"))"
   ]
  },
  {
   "cell_type": "code",
   "execution_count": 5,
   "metadata": {},
   "outputs": [],
   "source": [
    "file_manager = FileManager()\n",
    "file_manager.load_md_file('prompts/sales_detector.md')\n",
    "file_manager.get_content()\n",
    "prompt = file_manager.get_content()"
   ]
  },
  {
   "cell_type": "code",
   "execution_count": 6,
   "metadata": {},
   "outputs": [],
   "source": [
    "from utils.llm_manager import Assistant\n",
    "assistant_sales_detector = Assistant(client=client, base_prompt=prompt)"
   ]
  },
  {
   "cell_type": "code",
   "execution_count": 7,
   "metadata": {},
   "outputs": [
    {
     "data": {
      "text/plain": [
       "'You are a sales detection system. You will validate whether a chat history has an intention or an interest of the user in buying or acquiring Globant services or products. \\nSales Intention. Validation does not require external data access. Simply try to detect whether the string shows an intention or an interest of the user in buying or acquiring Globant services or products. \\n\\n\\n### **Format of the response:**\\nReturn one of the following categorical values:\\n\\n* \"Strong\": Indicates that the string clearly shows strong intention or interest of the user in buying or acquiring Globant services or products.\\n* \"Moderate\": Indicates that the string shows moderate intention or interest of the user in buying or acquiring Globant services or products.\\n* \"Potential\": Indicates that the string might imply potencially an intention or interest of the user in buying or acquiring Globant services or products, but is ambiguous.\\n* \"Weak\": Indicates that the string barely suggests an intention or interest of the user in buying or acquiring Globant services or products, or is very unclear.\\n* \"No\": Indicates that the string clearly does not show any intention or interest of the user in buying or acquiring Globant services or products,.\\n\\nDo not return anything else. Do not even return a newline or a leading field. Only return one of the five categorical values.\\n\\n### **Examples of inputs and the sales assistant are:**\\n\\n    - Example 1:\\n    \\n    Chat History: [{\"role\":\"user\",\"content\":\"What does Globant do?\"},{\"role\":\"assistant\",\"content\":\"Globant is a digitally native company that helps organizations reinvent themselves and unleash their potential. They are known for their expertise in digital and cognitive transformation. Globant offers a wide range of services, including software development, IT consulting, artificial intelligence, machine learning, and digital marketing, among others. They work with clients across various industries to create innovative solutions that drive business growth and efficiency.\\\\n\\\\nWould you like more detailed information on any specific service or product?\"},{\"role\":\"user\",\"content\":\"Who are their founders?\"}]\\n    No\\n    \\n    - Example 2:\\n\\n    Chat History: [{\"role\":\"user\",\"content\":\"What is the AI manifesto at Globant?\"},{\"role\":\"assistant\",\"content\":\"The AI Manifesto at Globant outlines our mission and principles for leveraging AI to make the world a better place. It emphasizes augmented intelligence, respectful data practices, and the ethical use of AI. Globant\\'s goal is to help organizations thrive while addressing the ethical challenges and social risks associated with AI.\\\\n\\\\nWould you like more details on any specific principles or our mission?\"},{\"role\":\"user\",\"content\":\"Estimados, necesitamos presupuesto para proyecto de IA. Su experiencia es crucial. Antes de proporcionar información necesitamos un acuerdo de confidencialidad\"}]\\n    Strong\\n\\n    - Example 3:\\n\\n    Chat History: [{\"role\":\"user\",\"content\":\"Who is Guibert Englebienne?\"},{\"role\":\"assistant\",\"content\":\"Guibert Englebienne is one of the co-founders of Globant and serves as the President of Latam and Globant X. He has a rich background in entrepreneurship, having started programming at the age of 12 and founded multiple companies before co-founding Globant. His vision that technology development can be done anywhere in the world has been key to Globant\\'s success.\\\\n\\\\nWould you like to know more about his role at Globant or his contributions to the tech industry?\"},{\"role\":\"user\",\"content\":\"We’re considering a digital transformation. What role could Globant play?\"}]\\n    Moderate\\n    \\n    - Example 4:\\n\\n    Chat History: [{\"role\":\"user\",\"content\":\"Does Globant work with any sports personalities?\"},{\"role\":\"assistant\",\"content\":\"Yes, Globant works with Franco Colapinto, an Argentine driver. Globant is sponsoring him for his debut in the FIA Formula 2 Championship in 2024. This sponsorship aligns with Globant\\'s commitment to transforming the sports industry.\\\\n\\\\nWould you like more details about this partnership or other initiatives Globant is involved in?\"},{\"role\":\"user\",\"content\":\"Me gustaría migrar mi web a Google\"}]\\n    Strong\\n    \\n    - Example 5:\\n\\n    Chat History: [{\"role\":\"user\",\"content\":\"I own a large mining property in Chile, and i need an Architect and team to  engineer Blockchain Exchange Technology to provide Cryptocurrency Coinage services to finance the Huge Asset Based, Ore Bodies for recovery/development\"}]\\n    Strong\\n    \\n    - Example 6:\\n\\n    Chat History: [{\"role\":\"user\",\"content\":\"Who founded Globant?\"},{\"role\":\"assistant\",\"content\":\"Globant was co-founded by Guibert Englebienne, Martín Migoya, and others. Guibert Englebienne is the President of Latam and Globant X, while Martín Migoya serves as the CEO. Their vision of a globally distributed technology development model has driven Globant\\'s growth and innovation.\\\\n\\\\nWould you like to know more about their journey or the company\\'s achievements?\"},{\"role\":\"user\",\"content\":\"Tengo una empresa de servicios y me gustaría mejorar la utilización de datos de los clientes\"}]\\n    Strong\\n\\n    - Example 7:\\n\\n    Chat History: [{\"role\":\"user\",\"content\":\"What services does Globant offer?\"},{\"role\":\"assistant\",\"content\":\"Globant offers a wide range of services including software development, IT consulting, artificial intelligence, machine learning, and digital marketing. They specialize in digital and cognitive transformation to help organizations reinvent themselves and drive business growth.\\\\n\\\\nWould you like more detailed information on any specific service or client case studies?\"},{\"role\":\"user\",\"content\":\"What is the meaning of life?\"}]\\n    No\\n    \\n    - Example 8:\\n\\n    Chat History: [{\"role\":\"user\",\"content\":\"Tell me about Globant products\"}]\\n    Strong\\n    \\n    - Example 9:\\n    \\n    Chat History: [{\"role\":\"user\",\"content\":\"How does Globant approach AI?\"},{\"role\":\"assistant\",\"content\":\"Globant\\'s approach to AI is guided by their AI Manifesto, which emphasizes the use of augmented intelligence, ethical data practices, and the responsible application of AI to solve real-world problems. They aim to enhance human potential while ensuring that AI-driven solutions are beneficial and respectful of privacy.\\\\n\\\\nWould you like to explore specific AI projects or learn more about their ethical guidelines?\"},{\"role\":\"user\",\"content\":\"Tell me success stories in Healthcare industry\"}]\\n    Weak\\n    \\n    - Example 10:\\n    \\n    Chat History: [{\"role\":\"user\",\"content\":\"Who is the CTO?\"}]\\n    No\\n\\n    - Example 11:\\n    \\n    Chat History: [{\"role\":\"user\",\"content\":\"Where are the offices?\"}]\\n    No\\n\\n    - Example 12:\\n    \\n    Chat History: [{\"role\":\"user\",\"content\":\"Who won the women that build awards last year?\"}]\\n    No\\n\\n    - Example 13:\\n    \\n    Chat History: [{\"role\":\"user\",\"content\":\"I’m actually looking for help with some cloud solutions. Do you handle that?\"}]\\n    Moderate\\n\\n    - Example 14:\\n    \\n    Chat History: [{\"role\":\"user\",\"content\":\"Do you offer consultations for small businesses?\"}]\\n    Moderate\\n\\n    - Example 15:\\n    \\n    Chat History: [{\"role\":\"user\",\"content\":\"\"We’re considering a digital transformation. What role could Globant play?\"\"}]\\n    Moderate\\n\\n### **About Globant product and services:**\\n\\nGlobant creates the digitally-native products that people love. Globant bridges the gap between businesses and consumers through technology and creativity, leveraging its experience as an AI powerhouse. Globant dares to digitally transform organizations and strive to delight its customers.\\n\\nGlobant has been consistently developing products and platforms to ignite growth and accelerate its work, making it better, faster, and more efficient. And its clients embrace the powerful result. From applying AI to reinventing how software is coded and tested, to constantly challenging businesses through tech, Globant has the tools needed to unlock business potential.\\n\\n\\nChat History:\\n<chat_history> \\n{chat_history}\\n</chat_history>\\n'"
      ]
     },
     "execution_count": 7,
     "metadata": {},
     "output_type": "execute_result"
    }
   ],
   "source": [
    "assistant_sales_detector.base_prompt"
   ]
  },
  {
   "cell_type": "code",
   "execution_count": 17,
   "metadata": {},
   "outputs": [
    {
     "ename": "KeyError",
     "evalue": "'\"role\"'",
     "output_type": "error",
     "traceback": [
      "\u001b[1;31m---------------------------------------------------------------------------\u001b[0m",
      "\u001b[1;31mKeyError\u001b[0m                                  Traceback (most recent call last)",
      "Cell \u001b[1;32mIn[17], line 1\u001b[0m\n\u001b[1;32m----> 1\u001b[0m \u001b[43massistant_sales_detector\u001b[49m\u001b[38;5;241;43m.\u001b[39;49m\u001b[43mbase_prompt\u001b[49m\u001b[38;5;241;43m.\u001b[39;49m\u001b[43mformat_map\u001b[49m\u001b[43m(\u001b[49m\u001b[43m{\u001b[49m\u001b[38;5;124;43m\"\u001b[39;49m\u001b[38;5;124;43mchat_history\u001b[39;49m\u001b[38;5;124;43m\"\u001b[39;49m\u001b[43m:\u001b[49m\u001b[38;5;124;43m\"\u001b[39;49m\u001b[38;5;124;43mquiero migrar mi home page a gcp\u001b[39;49m\u001b[38;5;124;43m\"\u001b[39;49m\u001b[43m}\u001b[49m\u001b[43m)\u001b[49m\n",
      "\u001b[1;31mKeyError\u001b[0m: '\"role\"'"
     ]
    }
   ],
   "source": [
    "assistant_sales_detector.base_prompt.format_map({\"chat_history\":\"quiero migrar mi home page a gcp\"})"
   ]
  },
  {
   "cell_type": "code",
   "execution_count": 7,
   "metadata": {},
   "outputs": [
    {
     "data": {
      "text/plain": [
       "'Hola'"
      ]
     },
     "execution_count": 7,
     "metadata": {},
     "output_type": "execute_result"
    }
   ],
   "source": [
    "assitant.chat_completion_response(prompt=\"Just say hello in spanish\")\n",
    "\n",
    "format(chat_history=\"quiero migrar mi home page a gcp\")"
   ]
  },
  {
   "cell_type": "code",
   "execution_count": null,
   "metadata": {},
   "outputs": [],
   "source": [
    "assistant_sales_detector.chat_completion_response(prompt=\"Just say hello in spanish\")"
   ]
  },
  {
   "cell_type": "code",
   "execution_count": 11,
   "metadata": {},
   "outputs": [
    {
     "data": {
      "text/plain": [
       "'Strong'"
      ]
     },
     "execution_count": 11,
     "metadata": {},
     "output_type": "execute_result"
    }
   ],
   "source": [
    "assistant_sales_detector.assistant_chat_completion_response(prompt=assistant_sales_detector.base_prompt, question=\"quiero migrar mi home page a gcp\")"
   ]
  },
  {
   "cell_type": "code",
   "execution_count": 11,
   "metadata": {},
   "outputs": [
    {
     "data": {
      "text/plain": [
       "'Strong'"
      ]
     },
     "execution_count": 11,
     "metadata": {},
     "output_type": "execute_result"
    }
   ],
   "source": [
    "assistant_sales_detector.assistant_chat_completion_response(prompt=assistant_sales_detector.base_prompt, question=\"quiero migrar mi home page a gcp\")"
   ]
  },
  {
   "cell_type": "code",
   "execution_count": 13,
   "metadata": {},
   "outputs": [
    {
     "data": {
      "text/plain": [
       "\"In MongoDB with Python, you don't necessarily need to create a class to represent a document before adding it. However, creating a class can provide a clear structure and make your code more organized and maintainable.\\n\\nHere's a step-by-step guide on how to add a document to a MongoDB collection:\\n\\n1. Install the `pymongo` library if you haven't already:\\n   ```bash\\n   pip install pymongo\\n   ```\\n\\n2. Set up your MongoDB client and define the function to add a row:\\n\\n### Using a dictionary (without a class)\\nHere is a simple example that does not use a class:\\n\\n```python\\nfrom pymongo import MongoClient\\n\\ndef add_conversation(conversation_id, question, answer, sales_intention=None, concent=None):\\n    # Create a MongoDB client\\n    client = MongoClient('mongodb://localhost:27017/')\\n    \\n    # Select the database and collection\\n    db = client['your_database_name']\\n    conversations = db['conversations']\\n    \\n    # Define the document to be inserted\\n    conversation = {\\n        'conversation_id': conversation_id,\\n        'question': question,\\n        'answer': answer,\\n        'sales_intention': sales_intention,\\n        'concent': concent\\n    }\\n    \\n    # Insert the document into the collection\\n    result = conversations.insert_one(conversation)\\n    print('Inserted conversation with _id:', result.inserted_id)\\n\\n# Example usage\\nadd_conversation('123', 'What is the price?', 'The price is $10.', sales_intention=None, concent=None)\\n```\\n\\n### Using a Class (more structured)\\nHere is an example that uses a class to represent the conversation:\\n\\n```python\\nfrom pymongo import MongoClient\\n\\nclass Conversation:\\n    def __init__(self, conversation_id, question, answer, sales_intention=None, concent=None):\\n        self.conversation_id = conversation_id\\n        self.question = question\\n        self.answer = answer\\n        self.sales_intention = sales_intention\\n        self.concent = concent\\n\\n    def to_dict(self):\\n        return {\\n            'conversation_id': self.conversation_id,\\n            'question': self.question,\\n            'answer': self.answer,\\n            'sales_intention': self.sales_intention,\\n            'concent': self.concent\\n        }\\n\\ndef add_conversation(conversation):\\n    # Create a MongoDB client\\n    client = MongoClient('mongodb://localhost:27017/')\\n    \\n    # Select the database and collection\\n    db = client['your_database_name']\\n    conversations = db['conversations']\\n    \\n    # Insert the document into the collection\\n    result = conversations.insert_one(conversation.to_dict())\\n    print('Inserted conversation with _id:', result.inserted_id)\\n\\n# Example usage\\nconv = Conversation('123', 'What is the price?', 'The price is $10.')\\nadd_conversation(conv)\\n```\\n\\n### Explanation\\n1. **MongoDB Client**: Establishes a connection to the MongoDB server.\\n2. **Database and Collection**: Specifies which database and collection to use (`your_database_name` and `conversations` in this example).\\n3. **Dict/Class Document**: Creates a dictionary or class instance representing the conversation to be inserted.\\n4. **Insert Operation**: Uses the `insert_one` method to add the document to the collection.\\n\\nReplace `'mongodb://localhost:27017/'` and `'your_database_name'` with your actual MongoDB connection string and database name.\""
      ]
     },
     "execution_count": 13,
     "metadata": {},
     "output_type": "execute_result"
    }
   ],
   "source": [
    "message = \"\"\"I need a function to add a row in a mongodb.\n",
    "\n",
    "my code is in python.\n",
    "\n",
    "the row to be add has the following fields:\n",
    "coversation_id: str\n",
    "question: str\n",
    "answer: str\n",
    "sales_intention: bool acept Null\n",
    "concent: bool acept Null\n",
    "\n",
    "Do I have to has a class, Conversation, to represent the row before to add to db?\n",
    "\n",
    "\"\"\"\n",
    "llm_client.chat_completion_response(prompt=message)"
   ]
  },
  {
   "cell_type": "code",
   "execution_count": 14,
   "metadata": {},
   "outputs": [],
   "source": [
    "result = \"In MongoDB with Python, you don't necessarily need to create a class to represent a document before adding it. However, creating a class can provide a clear structure and make your code more organized and maintainable.\\n\\nHere's a step-by-step guide on how to add a document to a MongoDB collection:\\n\\n1. Install the `pymongo` library if you haven't already:\\n   ```bash\\n   pip install pymongo\\n   ```\\n\\n2. Set up your MongoDB client and define the function to add a row:\\n\\n### Using a dictionary (without a class)\\nHere is a simple example that does not use a class:\\n\\n```python\\nfrom pymongo import MongoClient\\n\\ndef add_conversation(conversation_id, question, answer, sales_intention=None, concent=None):\\n    # Create a MongoDB client\\n    client = MongoClient('mongodb://localhost:27017/')\\n    \\n    # Select the database and collection\\n    db = client['your_database_name']\\n    conversations = db['conversations']\\n    \\n    # Define the document to be inserted\\n    conversation = {\\n        'conversation_id': conversation_id,\\n        'question': question,\\n        'answer': answer,\\n        'sales_intention': sales_intention,\\n        'concent': concent\\n    }\\n    \\n    # Insert the document into the collection\\n    result = conversations.insert_one(conversation)\\n    print('Inserted conversation with _id:', result.inserted_id)\\n\\n# Example usage\\nadd_conversation('123', 'What is the price?', 'The price is $10.', sales_intention=None, concent=None)\\n```\\n\\n### Using a Class (more structured)\\nHere is an example that uses a class to represent the conversation:\\n\\n```python\\nfrom pymongo import MongoClient\\n\\nclass Conversation:\\n    def __init__(self, conversation_id, question, answer, sales_intention=None, concent=None):\\n        self.conversation_id = conversation_id\\n        self.question = question\\n        self.answer = answer\\n        self.sales_intention = sales_intention\\n        self.concent = concent\\n\\n    def to_dict(self):\\n        return {\\n            'conversation_id': self.conversation_id,\\n            'question': self.question,\\n            'answer': self.answer,\\n            'sales_intention': self.sales_intention,\\n            'concent': self.concent\\n        }\\n\\ndef add_conversation(conversation):\\n    # Create a MongoDB client\\n    client = MongoClient('mongodb://localhost:27017/')\\n    \\n    # Select the database and collection\\n    db = client['your_database_name']\\n    conversations = db['conversations']\\n    \\n    # Insert the document into the collection\\n    result = conversations.insert_one(conversation.to_dict())\\n    print('Inserted conversation with _id:', result.inserted_id)\\n\\n# Example usage\\nconv = Conversation('123', 'What is the price?', 'The price is $10.')\\nadd_conversation(conv)\\n```\\n\\n### Explanation\\n1. **MongoDB Client**: Establishes a connection to the MongoDB server.\\n2. **Database and Collection**: Specifies which database and collection to use (`your_database_name` and `conversations` in this example).\\n3. **Dict/Class Document**: Creates a dictionary or class instance representing the conversation to be inserted.\\n4. **Insert Operation**: Uses the `insert_one` method to add the document to the collection.\\n\\nReplace `'mongodb://localhost:27017/'` and `'your_database_name'` with your actual MongoDB connection string and database name.\""
   ]
  },
  {
   "cell_type": "code",
   "execution_count": 15,
   "metadata": {},
   "outputs": [
    {
     "name": "stdout",
     "output_type": "stream",
     "text": [
      "In MongoDB with Python, you don't necessarily need to create a class to represent a document before adding it. However, creating a class can provide a clear structure and make your code more organized and maintainable.\n",
      "\n",
      "Here's a step-by-step guide on how to add a document to a MongoDB collection:\n",
      "\n",
      "1. Install the `pymongo` library if you haven't already:\n",
      "   ```bash\n",
      "   pip install pymongo\n",
      "   ```\n",
      "\n",
      "2. Set up your MongoDB client and define the function to add a row:\n",
      "\n",
      "### Using a dictionary (without a class)\n",
      "Here is a simple example that does not use a class:\n",
      "\n",
      "```python\n",
      "from pymongo import MongoClient\n",
      "\n",
      "def add_conversation(conversation_id, question, answer, sales_intention=None, concent=None):\n",
      "    # Create a MongoDB client\n",
      "    client = MongoClient('mongodb://localhost:27017/')\n",
      "    \n",
      "    # Select the database and collection\n",
      "    db = client['your_database_name']\n",
      "    conversations = db['conversations']\n",
      "    \n",
      "    # Define the document to be inserted\n",
      "    conversation = {\n",
      "        'conversation_id': conversation_id,\n",
      "        'question': question,\n",
      "        'answer': answer,\n",
      "        'sales_intention': sales_intention,\n",
      "        'concent': concent\n",
      "    }\n",
      "    \n",
      "    # Insert the document into the collection\n",
      "    result = conversations.insert_one(conversation)\n",
      "    print('Inserted conversation with _id:', result.inserted_id)\n",
      "\n",
      "# Example usage\n",
      "add_conversation('123', 'What is the price?', 'The price is $10.', sales_intention=None, concent=None)\n",
      "```\n",
      "\n",
      "### Using a Class (more structured)\n",
      "Here is an example that uses a class to represent the conversation:\n",
      "\n",
      "```python\n",
      "from pymongo import MongoClient\n",
      "\n",
      "class Conversation:\n",
      "    def __init__(self, conversation_id, question, answer, sales_intention=None, concent=None):\n",
      "        self.conversation_id = conversation_id\n",
      "        self.question = question\n",
      "        self.answer = answer\n",
      "        self.sales_intention = sales_intention\n",
      "        self.concent = concent\n",
      "\n",
      "    def to_dict(self):\n",
      "        return {\n",
      "            'conversation_id': self.conversation_id,\n",
      "            'question': self.question,\n",
      "            'answer': self.answer,\n",
      "            'sales_intention': self.sales_intention,\n",
      "            'concent': self.concent\n",
      "        }\n",
      "\n",
      "def add_conversation(conversation):\n",
      "    # Create a MongoDB client\n",
      "    client = MongoClient('mongodb://localhost:27017/')\n",
      "    \n",
      "    # Select the database and collection\n",
      "    db = client['your_database_name']\n",
      "    conversations = db['conversations']\n",
      "    \n",
      "    # Insert the document into the collection\n",
      "    result = conversations.insert_one(conversation.to_dict())\n",
      "    print('Inserted conversation with _id:', result.inserted_id)\n",
      "\n",
      "# Example usage\n",
      "conv = Conversation('123', 'What is the price?', 'The price is $10.')\n",
      "add_conversation(conv)\n",
      "```\n",
      "\n",
      "### Explanation\n",
      "1. **MongoDB Client**: Establishes a connection to the MongoDB server.\n",
      "2. **Database and Collection**: Specifies which database and collection to use (`your_database_name` and `conversations` in this example).\n",
      "3. **Dict/Class Document**: Creates a dictionary or class instance representing the conversation to be inserted.\n",
      "4. **Insert Operation**: Uses the `insert_one` method to add the document to the collection.\n",
      "\n",
      "Replace `'mongodb://localhost:27017/'` and `'your_database_name'` with your actual MongoDB connection string and database name.\n"
     ]
    }
   ],
   "source": [
    "print(result)"
   ]
  },
  {
   "cell_type": "code",
   "execution_count": null,
   "metadata": {},
   "outputs": [],
   "source": []
  }
 ],
 "metadata": {
  "kernelspec": {
   "display_name": ".venv",
   "language": "python",
   "name": "python3"
  },
  "language_info": {
   "codemirror_mode": {
    "name": "ipython",
    "version": 3
   },
   "file_extension": ".py",
   "mimetype": "text/x-python",
   "name": "python",
   "nbconvert_exporter": "python",
   "pygments_lexer": "ipython3",
   "version": "3.11.4"
  }
 },
 "nbformat": 4,
 "nbformat_minor": 2
}
